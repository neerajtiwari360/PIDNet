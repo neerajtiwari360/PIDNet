{
 "cells": [
  {
   "cell_type": "code",
   "execution_count": 9,
   "metadata": {},
   "outputs": [
    {
     "name": "stdout",
     "output_type": "stream",
     "text": [
      "=> creating output\\cityscapes\\pidnet_small_cityscapes_trainval\n",
      "=> creating log\\cityscapes\\pidnet_small\\pidnet_small_cityscapes_trainval_2024-07-01-19-04\n"
     ]
    },
    {
     "name": "stderr",
     "output_type": "stream",
     "text": [
      "Attention!!!\n",
      "Attention!!!\n",
      "Attention!!!\n",
      "Attention!!!\n",
      "Attention!!!\n",
      "Attention!!!\n",
      "Attention!!!\n",
      "Attention!!!\n",
      "Loaded 302 parameters!\n",
      "Loaded 302 parameters!\n",
      "Loaded 302 parameters!\n",
      "Loaded 302 parameters!\n",
      "Loaded 302 parameters!\n",
      "Loaded 302 parameters!\n",
      "Loaded 302 parameters!\n",
      "Loaded 302 parameters!\n",
      "Over!!!\n",
      "Over!!!\n",
      "Over!!!\n",
      "Over!!!\n",
      "Over!!!\n",
      "Over!!!\n",
      "Over!!!\n",
      "Over!!!\n"
     ]
    },
    {
     "name": "stdout",
     "output_type": "stream",
     "text": [
      "Model has been converted to ONNX and saved at D:\\github\\PIDNet\\pretrained_models\\onnx\\model.onnx\n"
     ]
    }
   ],
   "source": [
    "# Import necessary libraries\n",
    "import os\n",
    "import pprint\n",
    "import torch\n",
    "import torch.backends.cudnn as cudnn\n",
    "from models.pidnet import get_seg_model\n",
    "from configs import config, update_config\n",
    "from utils.utils import create_logger\n",
    "from torch.onnx import TrainingMode\n",
    "# Function to update the configuration\n",
    "def update_config_for_conversion(cfg_file):\n",
    "    import argparse\n",
    "    parser = argparse.ArgumentParser(description='Convert PyTorch model to ONNX')\n",
    "\n",
    "    parser.add_argument('--cfg', help='experiment configure file name', default=cfg_file, type=str)\n",
    "    parser.add_argument('--onnx-path', help='path to save the ONNX model', default=\"model.onnx\", type=str)\n",
    "    parser.add_argument('opts', help=\"Modify config options using the command-line\", default=None, nargs=argparse.REMAINDER)\n",
    "\n",
    "    args = parser.parse_args(args=[])\n",
    "    update_config(config, args)\n",
    "\n",
    "    return args\n",
    "\n",
    "# Function to load the model\n",
    "def load_model(cfg, model_file):\n",
    "    # cudnn related setting\n",
    "    # cudnn.benchmark = config.CUDNN.BENCHMARK\n",
    "    # cudnn.deterministic = config.CUDNN.DETERMINISTIC\n",
    "    # cudnn.enabled = config.CUDNN.ENABLED\n",
    "\n",
    "    # build model\n",
    "    model = get_seg_model(cfg, imgnet_pretrained=True)\n",
    "\n",
    "    pretrained_dict = torch.load(model_file, map_location=torch.device('cpu'))\n",
    "    if 'state_dict' in pretrained_dict:\n",
    "        pretrained_dict = pretrained_dict['state_dict']\n",
    "\n",
    "    model_dict = model.state_dict()\n",
    "    pretrained_dict = {k[6:]: v for k, v in pretrained_dict.items() if k[6:] in model_dict.keys()}\n",
    "    model_dict.update(pretrained_dict)\n",
    "    model.load_state_dict(model_dict)\n",
    "\n",
    "    return model\n",
    "\n",
    "# Function to convert the model to ONNX\n",
    "def convert_to_onnx(model, onnx_path, input_size):\n",
    "    model = model #.cuda()\n",
    "    model.eval()\n",
    "\n",
    "    # prepare dummy input\n",
    "    dummy_input = torch.randn(3, 3, input_size[1], input_size[0]) #.cuda()\n",
    "\n",
    "    # Convert model to ONNX format\n",
    "\n",
    "\n",
    "    # convert to ONNX\n",
    "    torch.onnx.export(model, dummy_input, onnx_path,\n",
    "                      export_params=True,\n",
    "                      opset_version=11,\n",
    "                      do_constant_folding=True,\n",
    "                      input_names=['input'],\n",
    "                      output_names=['output'],\n",
    "                      training=TrainingMode.TRAINING)\n",
    "\n",
    "    print(f'Model has been converted to ONNX and saved at {onnx_path}')\n",
    "\n",
    "# Define paths and configuration file\n",
    "cfg_file = r\"D:\\github\\PIDNet\\configs\\cityscapes\\pidnet_small_cityscapes_trainval.yaml\"\n",
    "model_file = r\"D:\\github\\PIDNet\\pretrained_models\\cityscapes\\PIDNet_S_Cityscapes_test.pt\"  # Change this to your model's path\n",
    "onnx_path = r\"D:\\github\\PIDNet\\pretrained_models\\onnx\\model.onnx\"\n",
    "\n",
    "# Update the configuration\n",
    "args = update_config_for_conversion(cfg_file)\n",
    "\n",
    "# Create logger (if needed)\n",
    "logger, final_output_dir, _ = create_logger(config, args.cfg, 'test')\n",
    "\n",
    "# Load the model\n",
    "model = load_model(config, model_file)\n",
    "\n",
    "# Convert to ONNX\n",
    "convert_to_onnx(model, onnx_path, config.TEST.IMAGE_SIZE)\n"
   ]
  },
  {
   "cell_type": "code",
   "execution_count": null,
   "metadata": {},
   "outputs": [],
   "source": []
  }
 ],
 "metadata": {
  "kernelspec": {
   "display_name": ".venv",
   "language": "python",
   "name": "python3"
  },
  "language_info": {
   "codemirror_mode": {
    "name": "ipython",
    "version": 3
   },
   "file_extension": ".py",
   "mimetype": "text/x-python",
   "name": "python",
   "nbconvert_exporter": "python",
   "pygments_lexer": "ipython3",
   "version": "3.9.13"
  }
 },
 "nbformat": 4,
 "nbformat_minor": 2
}
